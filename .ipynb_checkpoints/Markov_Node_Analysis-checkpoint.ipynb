{
 "cells": [
  {
   "cell_type": "code",
   "execution_count": 19,
   "metadata": {
    "scrolled": true
   },
   "outputs": [],
   "source": [
    "import fileSelector\n",
    "import csv\n",
    "fileName = fileSelector.gui_fname()\n"
   ]
  },
  {
   "cell_type": "code",
   "execution_count": 20,
   "metadata": {},
   "outputs": [
    {
     "name": "stdout",
     "output_type": "stream",
     "text": [
      "b'/home/victoria/Research2020/MapworldAnalysis/Data/LOD_data.csv'\n"
     ]
    }
   ],
   "source": [
    "print(fileName)"
   ]
  },
  {
   "cell_type": "code",
   "execution_count": 21,
   "metadata": {},
   "outputs": [],
   "source": [
    "f = open(fileName, \"r\")"
   ]
  },
  {
   "cell_type": "code",
   "execution_count": 22,
   "metadata": {},
   "outputs": [],
   "source": [
    "reader = csv.reader(f)\n",
    "headers = next(reader, None)\n",
    "\n",
    "# print(headers)\n",
    "\n",
    "nodeOutIndex = headers.index('markovBrain_nextNodesConnections_LIST')\n",
    "nodeInIndex = headers.index('markovBrain_nodesConnections_LIST')\n",
    "\n",
    "# print(nodeOut, nodeIn)\n"
   ]
  },
  {
   "cell_type": "code",
   "execution_count": 23,
   "metadata": {},
   "outputs": [],
   "source": [
    "nodeOuts = [];\n",
    "nodeIns = [];\n",
    "for row in reader:\n",
    "    nodeOuts.append(row[nodeOutIndex].split(\",\"))\n",
    "    nodeIns.append(row[nodeInIndex].split(\",\"))\n",
    "    \n",
    "# print(nodeOuts)\n",
    "# print(nodeIns)"
   ]
  },
  {
   "cell_type": "code",
   "execution_count": 30,
   "metadata": {},
   "outputs": [
    {
     "name": "stdout",
     "output_type": "stream",
     "text": [
      "Enter Node Out Uses:\n",
      "ex: compass forward,compass right,compass backwards,compass left\n",
      "compass forward,compass right,compass backwards,compass left,wall sensor,wall sensor,wall sensor,hotspot sensor,hotspot sensor,hotspot sensor,currently on hotspot sensor,hotspot prediction,hotspot prediction,hotspot prediction,hotspot prediction,left motor,right motor,reverse motor\n"
     ]
    }
   ],
   "source": [
    "import scipy.stats as ss\n",
    "import pandas as pd\n",
    "\n",
    "percentOut = [0] * len(nodeOuts[0])\n",
    "totOut = [0] * len(nodeOuts[0])\n",
    "avgGates = [0] * len(nodeOuts[0])\n",
    "for i in range(len(nodeOuts)):\n",
    "    for j in range(len(nodeOuts[i])):\n",
    "        if int(nodeOuts[i][j]) > 0:\n",
    "            percentOut[j] += (1/len(nodeOuts))\n",
    "            avgGates[j] += int(nodeOuts[i][j])/len(nodeOuts)\n",
    "            totOut[j] += int(nodeOuts[i][j])\n",
    "            \n",
    "\n",
    "            \n",
    "rankOut = ss.rankdata([-1 * i for i in totOut]).astype(int)\n",
    "\n",
    "print('Enter Node Out Uses:')\n",
    "print('ex: compass forward,compass right,compass backwards,compass left')\n",
    "namesOut = input()\n",
    "\n",
    "\n",
    "    \n"
   ]
  },
  {
   "cell_type": "code",
   "execution_count": 31,
   "metadata": {},
   "outputs": [
    {
     "name": "stdout",
     "output_type": "stream",
     "text": [
      "    Percentage  Average Gates  Rank                          Use\n",
      "0     0.555066       0.926579    21              compass forward\n",
      "1     0.506608       0.801762    29                compass right\n",
      "2     0.540382       0.920705    22            compass backwards\n",
      "3     0.555066       0.967695    18                 compass left\n",
      "4     0.531571       0.903084    23                  wall sensor\n",
      "5     0.456681       0.738620    33                  wall sensor\n",
      "6     0.405286       0.624082    36                  wall sensor\n",
      "7     0.499266       0.784141    30               hotspot sensor\n",
      "8     0.537445       1.000000    17               hotspot sensor\n",
      "9     0.444934       0.715125    34               hotspot sensor\n",
      "10    0.474302       0.710720    35  currently on hotspot sensor\n",
      "11    0.997063       1.251101    11           hotspot prediction\n",
      "12    0.997063       1.284875     7           hotspot prediction\n",
      "13    0.716593       0.945668    20           hotspot prediction\n",
      "14    0.961821       1.264317     9           hotspot prediction\n",
      "15    0.982379       1.342144     2                   left motor\n",
      "16    0.967695       1.289280     5                  right motor\n",
      "17    0.958884       1.289280     5                reverse motor\n",
      "18    0.891336       1.199706    15                    Reccurent\n",
      "19    0.886931       1.226138    14                    Reccurent\n",
      "20    0.932452       1.265786     8                    Reccurent\n",
      "21    0.074890       0.088106    37                    Reccurent\n",
      "22    0.988253       1.239354    13                    Reccurent\n",
      "23    0.998532       1.249633    12                    Reccurent\n",
      "24    1.000000       1.252570    10                    Reccurent\n",
      "25    1.000000       1.292217     4                    Reccurent\n",
      "26    0.998532       1.299559     3                    Reccurent\n",
      "27    0.998532       1.988253     1                    Reccurent\n",
      "28    0.944200       1.186490    16                    Reccurent\n",
      "29    0.544787       0.961821    19                    Reccurent\n",
      "30    0.503671       0.813510    28                    Reccurent\n",
      "31    0.513950       0.866373    25                    Reccurent\n",
      "32    0.515419       0.837004    26                    Reccurent\n",
      "33    0.502203       0.835536    27                    Reccurent\n",
      "34    0.549192       0.885463    24                    Reccurent\n",
      "35    0.453744       0.766520    32                    Reccurent\n",
      "36    0.466960       0.769457    31                    Reccurent\n"
     ]
    }
   ],
   "source": [
    "titlesOut = namesOut.split(\",\")\n",
    "while(len(titlesOut) < len(rankOut)):\n",
    "    titlesOut.append(\"Reccurent\")\n",
    "\n",
    "# intialise data of lists.\n",
    "data = {'Percentage':percentOut,\n",
    "        'Average Gates': avgGates,\n",
    "        'Rank':rankOut,\n",
    "        'Use':titlesOut}\n",
    " \n",
    "# Create DataFrame\n",
    "outDF = pd.DataFrame(data)\n",
    " \n",
    "# Print the output.\n",
    "print(outDF)"
   ]
  },
  {
   "cell_type": "code",
   "execution_count": 34,
   "metadata": {},
   "outputs": [
    {
     "name": "stdout",
     "output_type": "stream",
     "text": [
      "Enter Node In Uses:\n",
      "ex: compass forward,compass right,compass backwards,compass left\n",
      "compass forward,compass right,compass backwards,compass left,wall sensor,wall sensor,wall sensor,hotspot sensor,hotspot sensor,hotspot sensor,if hotspots are on\n"
     ]
    }
   ],
   "source": [
    "percentIn = [0] * len(nodeIns[0])\n",
    "totIn = [0] * len(nodeIns[0])\n",
    "avgGates = [0] * len(nodeIns[0])\n",
    "for i in range(len(nodeIns)):\n",
    "    for j in range(len(nodeIns[i])):\n",
    "        if int(nodeIns[i][j]) > 0:\n",
    "            percentIn[j] += (1/len(nodeIns))\n",
    "            avgGates[j] += int(nodeIns[i][j])/len(nodeIns)\n",
    "            totIn[j] += int(nodeIns[i][j])\n",
    "            \n",
    "rankIn = ss.rankdata([-1 * i for i in totIn]).astype(int)\n",
    "\n",
    "print('Enter Node In Uses:')\n",
    "print('ex: compass forward,compass right,compass backwards,compass left')\n",
    "namesIn = input()\n"
   ]
  },
  {
   "cell_type": "code",
   "execution_count": 37,
   "metadata": {},
   "outputs": [
    {
     "name": "stdout",
     "output_type": "stream",
     "text": [
      "    Percentage  Average Gates  Rank                 Use\n",
      "0     0.998532       1.616740     3     compass forward\n",
      "1     0.819383       1.102790    10       compass right\n",
      "2     0.810573       1.051395    11   compass backwards\n",
      "3     0.988253       1.365639     6        compass left\n",
      "4     0.977974       1.389134     5         wall sensor\n",
      "5     0.992658       2.324523     1         wall sensor\n",
      "6     0.989721       1.400881     4         wall sensor\n",
      "7     0.898678       1.237885     9      hotspot sensor\n",
      "8     0.906021       1.306902     7      hotspot sensor\n",
      "9     0.930984       1.268722     8      hotspot sensor\n",
      "10    0.992658       2.252570     2  if hotspots are on\n",
      "11    0.422907       0.681351    37           Reccurent\n",
      "12    0.594714       1.020558    12           Reccurent\n",
      "13    0.535977       0.967695    14           Reccurent\n",
      "14    0.530103       0.913363    20           Reccurent\n",
      "15    0.602056       0.988253    13           Reccurent\n",
      "16    0.531571       0.955947    15           Reccurent\n",
      "17    0.446402       0.698972    35           Reccurent\n",
      "18    0.547724       0.907489    21           Reccurent\n",
      "19    0.497797       0.797357    29           Reccurent\n",
      "20    0.464023       0.709251    32           Reccurent\n",
      "21    0.484581       0.812041    28           Reccurent\n",
      "22    0.535977       0.930984    17           Reccurent\n",
      "23    0.515419       0.917768    19           Reccurent\n",
      "24    0.499266       0.747430    30           Reccurent\n",
      "25    0.546256       0.922173    18           Reccurent\n",
      "26    0.513950       0.860499    25           Reccurent\n",
      "27    0.450808       0.691630    36           Reccurent\n",
      "28    0.559471       0.954479    16           Reccurent\n",
      "29    0.535977       0.838473    26           Reccurent\n",
      "30    0.521292       0.901615    22           Reccurent\n",
      "31    0.527166       0.891336    23           Reccurent\n",
      "32    0.524229       0.879589    24           Reccurent\n",
      "33    0.513950       0.832599    27           Reccurent\n",
      "34    0.447871       0.704846    33           Reccurent\n",
      "35    0.459618       0.700441    34           Reccurent\n",
      "36    0.443465       0.716593    31           Reccurent\n"
     ]
    }
   ],
   "source": [
    "titlesIn = namesIn.split(\",\")\n",
    "while(len(titlesIn) < len(rankIn)):\n",
    "    titlesIn.append(\"Reccurent\")\n",
    "    \n",
    "# intialise data of lists.\n",
    "data = {'Percentage':percentIn,\n",
    "        'Average Gates':avgGates,\n",
    "        'Rank':rankIn,\n",
    "         'Use':titlesIn}\n",
    " \n",
    "# Create DataFrame\n",
    "inDF = pd.DataFrame(data)\n",
    " \n",
    "# Print the output.\n",
    "print(inDF)\n",
    "    "
   ]
  },
  {
   "cell_type": "code",
   "execution_count": null,
   "metadata": {},
   "outputs": [],
   "source": [
    "\n",
    "    \n"
   ]
  }
 ],
 "metadata": {
  "kernelspec": {
   "display_name": "Python 3",
   "language": "python",
   "name": "python3"
  },
  "language_info": {
   "codemirror_mode": {
    "name": "ipython",
    "version": 3
   },
   "file_extension": ".py",
   "mimetype": "text/x-python",
   "name": "python",
   "nbconvert_exporter": "python",
   "pygments_lexer": "ipython3",
   "version": "3.7.3"
  }
 },
 "nbformat": 4,
 "nbformat_minor": 4
}
